{
 "cells": [
  {
   "cell_type": "code",
   "execution_count": 1,
   "id": "1dd027f9-4248-441d-9875-0adbd41f1a1c",
   "metadata": {},
   "outputs": [
    {
     "name": "stderr",
     "output_type": "stream",
     "text": [
      "The system cannot find the path specified.\n"
     ]
    }
   ],
   "source": [
    "# Install necessary Python packages using pip\n",
    "!pip install -U -q evaluate transformers datasets accelerate mlflow 2>/dev/null\n",
    "\n"
   ]
  },
  {
   "cell_type": "code",
   "execution_count": 2,
   "id": "32c14384-b12a-4d27-befe-375e6cf8aa12",
   "metadata": {},
   "outputs": [],
   "source": [
    "# Import necessary libraries and modules\n",
    "import warnings\n",
    "warnings.filterwarnings(\"ignore\")\n",
    "import gc\n",
    "import numpy as np\n",
    "import pandas as pd\n",
    "from sklearn.metrics import accuracy_score, confusion_matrix, classification_report, f1_score\n",
    "from imblearn.over_sampling import RandomOverSampler\n",
    "from datasets import Dataset, ClassLabel\n",
    "from transformers import TrainingArguments, Trainer, ViTImageProcessor, ViTForImageClassification\n",
    "import torch\n",
    "from torchvision.transforms import Compose, Normalize, RandomRotation, RandomHorizontalFlip, RandomAdjustSharpness, Resize, ToTensor\n",
    "from PIL import Image, ImageFile\n",
    "\n"
   ]
  },
  {
   "cell_type": "code",
   "execution_count": 3,
   "id": "8a054f9a-5aa2-42e7-b559-14dc0dfc8508",
   "metadata": {},
   "outputs": [],
   "source": [
    "# Enable the option to load truncated images\n",
    "ImageFile.LOAD_TRUNCATED_IMAGES = True\n",
    "\n"
   ]
  },
  {
   "cell_type": "code",
   "execution_count": 4,
   "id": "6cca5f4b-08e1-4ec0-93fd-84bbae917805",
   "metadata": {},
   "outputs": [],
   "source": [
    "# Load and prepare dataset\n",
    "import os\n",
    "from pathlib import Path\n",
    "\n",
    "base_path = Path('C:/Users/osyed/OneDrive/Desktop/FacialEmotionRecognition/images/images')\n",
    "if not base_path.exists():\n",
    "    raise FileNotFoundError(f\"The directory {base_path} does not exist. Please check the path.\")\n",
    "\n",
    "file_names, labels, images = [], [], []\n",
    "for file in sorted(base_path.glob('*/*/*.*')):\n",
    "    labels.append(file.parts[-2])\n",
    "    file_names.append(str(file))\n",
    "    with Image.open(file) as image:\n",
    "        image = image.convert(\"RGB\")\n",
    "        images.append(image)\n",
    "\n"
   ]
  },
  {
   "cell_type": "code",
   "execution_count": 5,
   "id": "55a5b78f-2659-490a-b0f6-ef2d0402c467",
   "metadata": {},
   "outputs": [],
   "source": [
    "# Create DataFrame\n",
    "df = pd.DataFrame({\"image\": images, \"label\": labels})\n",
    "df['label'] = df['label'].astype('category')\n",
    "\n"
   ]
  },
  {
   "cell_type": "code",
   "execution_count": 6,
   "id": "a182c63e-4b91-4f77-8d26-c6571f34d043",
   "metadata": {},
   "outputs": [],
   "source": [
    "# Perform random oversampling\n",
    "y = df[['label']]\n",
    "df = df.drop(['label'], axis=1)\n",
    "ros = RandomOverSampler(random_state=83)\n",
    "df, y_resampled = ros.fit_resample(df, y)\n",
    "df['label'] = y_resampled\n",
    "\n"
   ]
  },
  {
   "cell_type": "code",
   "execution_count": 50,
   "id": "7d2fb4e9-afda-45d2-aa0f-d312f4628674",
   "metadata": {},
   "outputs": [
    {
     "name": "stdout",
     "output_type": "stream",
     "text": [
      "Unique labels: ['angry', 'disgust', 'fear', 'happy', 'neutral', 'sad', 'surprise']\n",
      "Categories (7, object): ['angry', 'disgust', 'fear', 'happy', 'neutral', 'sad', 'surprise']\n"
     ]
    }
   ],
   "source": [
    "# Get all unique labels from the 'label' column of your DataFrame\n",
    "unique_labels = df['label'].unique()\n",
    "\n",
    "# Print the unique labels\n",
    "print(\"Unique labels:\", unique_labels)\n"
   ]
  },
  {
   "cell_type": "code",
   "execution_count": 7,
   "id": "8fdc9983-f6c7-456e-adbe-2b52785bd215",
   "metadata": {},
   "outputs": [],
   "source": [
    "# Convert to dataset\n",
    "dataset = Dataset.from_dict({\"image\": df[\"image\"].tolist(), \"label\": df[\"label\"].tolist()})\n",
    "\n"
   ]
  },
  {
   "cell_type": "code",
   "execution_count": 8,
   "id": "9fdc5ba6-a189-4240-8b0d-bb109668c0a4",
   "metadata": {},
   "outputs": [
    {
     "data": {
      "application/vnd.jupyter.widget-view+json": {
       "model_id": "cbc865453b2a4cb2a7b429e03340ccb5",
       "version_major": 2,
       "version_minor": 0
      },
      "text/plain": [
       "Map:   0%|          | 0/62923 [00:00<?, ? examples/s]"
      ]
     },
     "metadata": {},
     "output_type": "display_data"
    },
    {
     "data": {
      "application/vnd.jupyter.widget-view+json": {
       "model_id": "e2405dea2ad74809b4549f58ae798e7a",
       "version_major": 2,
       "version_minor": 0
      },
      "text/plain": [
       "Casting the dataset:   0%|          | 0/62923 [00:00<?, ? examples/s]"
      ]
     },
     "metadata": {},
     "output_type": "display_data"
    }
   ],
   "source": [
    "# Define label mappings\n",
    "labels_list = df['label'].unique().tolist()\n",
    "label2id, id2label = {label: i for i, label in enumerate(labels_list)}, {i: label for i, label in enumerate(labels_list)}\n",
    "class_labels = ClassLabel(num_classes=len(labels_list), names=labels_list)\n",
    "dataset = dataset.map(lambda example: {'label': class_labels.str2int(example['label'])}, batched=True)\n",
    "dataset = dataset.cast_column('label', class_labels)\n",
    "\n"
   ]
  },
  {
   "cell_type": "code",
   "execution_count": 9,
   "id": "14937250-820e-453a-8f23-d26e7f9a9ff8",
   "metadata": {},
   "outputs": [],
   "source": [
    "# Split dataset\n",
    "dataset = dataset.train_test_split(test_size=0.7, shuffle=True, stratify_by_column=\"label\")\n",
    "train_data, test_data = dataset['train'], dataset['test']\n",
    "\n"
   ]
  },
  {
   "cell_type": "code",
   "execution_count": 10,
   "id": "bafcbac8-7d52-493a-af1a-b595e71643ec",
   "metadata": {},
   "outputs": [],
   "source": [
    "# Define image transformations\n",
    "model_str = \"dima806/facial_emotions_image_detection\"\n",
    "processor = ViTImageProcessor.from_pretrained(model_str)\n",
    "normalize = Normalize(mean=processor.image_mean, std=processor.image_std)\n",
    "size = processor.size[\"height\"]\n",
    "\n"
   ]
  },
  {
   "cell_type": "code",
   "execution_count": 11,
   "id": "49000a38-f03a-4293-8a98-85647961ae0d",
   "metadata": {},
   "outputs": [],
   "source": [
    "_train_transforms = Compose([\n",
    "    Resize((size, size)),\n",
    "    RandomRotation(90),\n",
    "    RandomAdjustSharpness(2),\n",
    "    RandomHorizontalFlip(0.5),\n",
    "    ToTensor(),\n",
    "    normalize\n",
    "])\n",
    "\n"
   ]
  },
  {
   "cell_type": "code",
   "execution_count": 12,
   "id": "f48f4b1a-8261-4034-b63e-4b2206469026",
   "metadata": {},
   "outputs": [],
   "source": [
    "_val_transforms = Compose([\n",
    "    Resize((size, size)),\n",
    "    ToTensor(),\n",
    "    normalize\n",
    "])\n",
    "\n"
   ]
  },
  {
   "cell_type": "code",
   "execution_count": 13,
   "id": "295f5c3b-cf5b-4622-b687-83d00ecf7490",
   "metadata": {},
   "outputs": [],
   "source": [
    "def train_transforms(examples):\n",
    "    examples[\"pixel_values\"] = [_train_transforms(image.convert(\"RGB\")) for image in examples[\"image\"]]\n",
    "    return examples\n",
    "\n"
   ]
  },
  {
   "cell_type": "code",
   "execution_count": 14,
   "id": "a7dce4ef-0946-4f1c-9c45-1e9397f9e49c",
   "metadata": {},
   "outputs": [],
   "source": [
    "def val_transforms(examples):\n",
    "    examples[\"pixel_values\"] = [_val_transforms(image.convert(\"RGB\")) for image in examples[\"image\"]]\n",
    "    return examples\n",
    "\n"
   ]
  },
  {
   "cell_type": "code",
   "execution_count": 15,
   "id": "50662aa2-0a50-4a5b-a3e4-95b3959d7865",
   "metadata": {},
   "outputs": [],
   "source": [
    "train_data.set_transform(train_transforms)\n",
    "test_data.set_transform(val_transforms)\n",
    "\n"
   ]
  },
  {
   "cell_type": "code",
   "execution_count": 16,
   "id": "270df797-9425-49f4-a9aa-9aaa9e68134e",
   "metadata": {},
   "outputs": [],
   "source": [
    "def collate_fn(examples):\n",
    "    pixel_values = torch.stack([example[\"pixel_values\"] for example in examples])\n",
    "    labels = torch.tensor([example['label'] for example in examples])\n",
    "    return {\"pixel_values\": pixel_values, \"labels\": labels}\n",
    "\n"
   ]
  },
  {
   "cell_type": "code",
   "execution_count": 17,
   "id": "4069db0c-53b8-41c5-aa13-4fc760af4a7e",
   "metadata": {},
   "outputs": [],
   "source": [
    "# Load and prepare model\n",
    "model = ViTForImageClassification.from_pretrained(model_str, num_labels=len(labels_list))\n",
    "model.config.id2label = id2label\n",
    "model.config.label2id = label2id\n",
    "\n"
   ]
  },
  {
   "cell_type": "code",
   "execution_count": 18,
   "id": "78a11073-043e-4b26-ac8a-21abbba57fd0",
   "metadata": {},
   "outputs": [],
   "source": [
    "# Define compute metrics function\n",
    "import evaluate\n",
    "accuracy = evaluate.load(\"accuracy\")\n",
    "\n"
   ]
  },
  {
   "cell_type": "code",
   "execution_count": 19,
   "id": "d669d33d-1f7f-4c46-8369-663657054491",
   "metadata": {},
   "outputs": [],
   "source": [
    "def compute_metrics(eval_pred):\n",
    "    predictions = eval_pred.predictions.argmax(axis=1)\n",
    "    label_ids = eval_pred.label_ids\n",
    "    acc_score = accuracy.compute(predictions=predictions, references=label_ids)['accuracy']\n",
    "    return {\"accuracy\": acc_score}\n",
    "\n"
   ]
  },
  {
   "cell_type": "code",
   "execution_count": 20,
   "id": "de507844-603e-48c7-9e30-828cbfb72340",
   "metadata": {},
   "outputs": [],
   "source": [
    "# Define training arguments\n",
    "args = TrainingArguments(\n",
    "    output_dir=\"facial_emotions_image_detection\",\n",
    "    evaluation_strategy=\"epoch\",\n",
    "    learning_rate=1e-5,\n",
    "    per_device_train_batch_size=32,\n",
    "    per_device_eval_batch_size=8,\n",
    "    num_train_epochs=5,\n",
    "    weight_decay=0.02,\n",
    "    warmup_steps=50,\n",
    "    remove_unused_columns=False,\n",
    "    save_strategy='epoch',\n",
    "    load_best_model_at_end=True,\n",
    "    save_total_limit=1,\n",
    "    report_to=\"none\"\n",
    ")\n",
    "\n"
   ]
  },
  {
   "cell_type": "code",
   "execution_count": 21,
   "id": "75417457-475e-480a-a68c-6be0f5896995",
   "metadata": {},
   "outputs": [],
   "source": [
    "# Initialize Trainer\n",
    "trainer = Trainer(\n",
    "    model=model,\n",
    "    args=args,\n",
    "    train_dataset=train_data,\n",
    "    eval_dataset=test_data,\n",
    "    data_collator=collate_fn,\n",
    "    compute_metrics=compute_metrics,\n",
    "    tokenizer=processor,\n",
    ")\n",
    "\n"
   ]
  },
  {
   "cell_type": "code",
   "execution_count": 22,
   "id": "9add27d3-794b-4e28-ab56-5d40106c88e4",
   "metadata": {
    "editable": true,
    "slideshow": {
     "slide_type": ""
    },
    "tags": []
   },
   "outputs": [
    {
     "data": {
      "text/html": [
       "\n",
       "    <div>\n",
       "      \n",
       "      <progress value='2950' max='2950' style='width:300px; height:20px; vertical-align: middle;'></progress>\n",
       "      [2950/2950 41:00:56, Epoch 5/5]\n",
       "    </div>\n",
       "    <table border=\"1\" class=\"dataframe\">\n",
       "  <thead>\n",
       " <tr style=\"text-align: left;\">\n",
       "      <th>Epoch</th>\n",
       "      <th>Training Loss</th>\n",
       "      <th>Validation Loss</th>\n",
       "      <th>Accuracy</th>\n",
       "    </tr>\n",
       "  </thead>\n",
       "  <tbody>\n",
       "    <tr>\n",
       "      <td>1</td>\n",
       "      <td>1.340000</td>\n",
       "      <td>0.778570</td>\n",
       "      <td>0.718732</td>\n",
       "    </tr>\n",
       "    <tr>\n",
       "      <td>2</td>\n",
       "      <td>0.915800</td>\n",
       "      <td>0.698579</td>\n",
       "      <td>0.754081</td>\n",
       "    </tr>\n",
       "    <tr>\n",
       "      <td>3</td>\n",
       "      <td>0.822900</td>\n",
       "      <td>0.622218</td>\n",
       "      <td>0.785343</td>\n",
       "    </tr>\n",
       "    <tr>\n",
       "      <td>4</td>\n",
       "      <td>0.752200</td>\n",
       "      <td>0.585983</td>\n",
       "      <td>0.797648</td>\n",
       "    </tr>\n",
       "    <tr>\n",
       "      <td>5</td>\n",
       "      <td>0.691700</td>\n",
       "      <td>0.578970</td>\n",
       "      <td>0.800736</td>\n",
       "    </tr>\n",
       "  </tbody>\n",
       "</table><p>"
      ],
      "text/plain": [
       "<IPython.core.display.HTML object>"
      ]
     },
     "metadata": {},
     "output_type": "display_data"
    },
    {
     "data": {
      "text/html": [],
      "text/plain": [
       "<IPython.core.display.HTML object>"
      ]
     },
     "metadata": {},
     "output_type": "display_data"
    },
    {
     "data": {
      "text/plain": [
       "{'eval_loss': 0.5789695978164673,\n",
       " 'eval_accuracy': 0.8007355779054192,\n",
       " 'eval_runtime': 14908.789,\n",
       " 'eval_samples_per_second': 2.954,\n",
       " 'eval_steps_per_second': 0.369,\n",
       " 'epoch': 5.0}"
      ]
     },
     "execution_count": 22,
     "metadata": {},
     "output_type": "execute_result"
    }
   ],
   "source": [
    "# Train and evaluate model\n",
    "trainer.train()\n",
    "trainer.evaluate()\n",
    "\n"
   ]
  },
  {
   "cell_type": "code",
   "execution_count": 25,
   "id": "f412762f-52ba-476a-a969-3128e30fe002",
   "metadata": {},
   "outputs": [],
   "source": [
    "# Save the trained model\n",
    "trainer.save_model()"
   ]
  },
  {
   "cell_type": "code",
   "execution_count": 43,
   "id": "e2fb99d5-26ea-4cb2-b93c-42dad62ede70",
   "metadata": {},
   "outputs": [
    {
     "name": "stdout",
     "output_type": "stream",
     "text": [
      "Accuracy: 0.8007\n",
      "F1 Score: 0.7997\n"
     ]
    }
   ],
   "source": [
    "\n",
    "accuracy = accuracy_score(y_true, y_pred)\n",
    "f1 = f1_score(y_true, y_pred, average='macro')\n",
    "print(f\"Accuracy: {accuracy:.4f}\")\n",
    "print(f\"F1 Score: {f1:.4f}\")\n",
    "\n"
   ]
  },
  {
   "cell_type": "code",
   "execution_count": 32,
   "id": "56c0d0da-88d2-4d43-8d34-614fea7b3028",
   "metadata": {},
   "outputs": [],
   "source": [
    "\n",
    "import seaborn as sns\n",
    "import matplotlib.pyplot as plt"
   ]
  },
  {
   "cell_type": "code",
   "execution_count": 33,
   "id": "a534e46f-29ff-4953-8b51-c58ba75e0766",
   "metadata": {},
   "outputs": [
    {
     "data": {
      "image/png": "[encoded data removed]",
      "text/plain": [
       "<Figure size 800x600 with 2 Axes>"
      ]
     },
     "metadata": {},
     "output_type": "display_data"
    }
   ],
   "source": [
    "# Compute confusion matrix\n",
    "cm = confusion_matrix(y_true, y_pred)\n",
    "\n",
    "# Plot confusion matrix\n",
    "plt.figure(figsize=(8, 6))\n",
    "sns.heatmap(cm, annot=True, cmap='Blues', fmt='d', xticklabels=labels_list, yticklabels=labels_list)\n",
    "plt.xlabel('Predicted')\n",
    "plt.ylabel('True')\n",
    "plt.title('Confusion Matrix')\n",
    "plt.show()"
   ]
  },
  {
   "cell_type": "code",
   "execution_count": 37,
   "id": "607919f4-94de-488b-9b9f-b17ced115250",
   "metadata": {},
   "outputs": [
    {
     "name": "stdout",
     "output_type": "stream",
     "text": [
      "\n",
      "Classification report:\n",
      "\n",
      "              precision    recall  f1-score   support\n",
      "\n",
      "       angry     0.7101    0.7816    0.7441      6292\n",
      "     disgust     0.9831    0.9970    0.9900      6292\n",
      "        fear     0.7193    0.6417    0.6783      6293\n",
      "       happy     0.9015    0.8668    0.8838      6292\n",
      "     neutral     0.7595    0.7496    0.7545      6293\n",
      "         sad     0.6557    0.6496    0.6526      6293\n",
      "    surprise     0.8721    0.9189    0.8949      6292\n",
      "\n",
      "    accuracy                         0.8007     44047\n",
      "   macro avg     0.8002    0.8007    0.7997     44047\n",
      "weighted avg     0.8002    0.8007    0.7997     44047\n",
      "\n"
     ]
    }
   ],
   "source": [
    "print(\"\\nClassification report:\\n\")\n",
    "print(classification_report(y_true, y_pred, target_names=labels_list, digits=4))\n",
    "\n"
   ]
  },
  {
   "cell_type": "code",
   "execution_count": 34,
   "id": "612b0397-5712-408a-b313-4336fcfdc336",
   "metadata": {},
   "outputs": [],
   "source": [
    "# Code to use the saved model to predict emotions using live cam\n",
    "import cv2\n",
    "\n"
   ]
  },
  {
   "cell_type": "code",
   "execution_count": 35,
   "id": "6a0d9938-82f3-41a1-84f7-dd5e3ca58eb2",
   "metadata": {},
   "outputs": [],
   "source": [
    "# Load the saved model\n",
    "model = ViTForImageClassification.from_pretrained(\"facial_emotions_image_detection\")\n",
    "model.config.id2label = id2label\n",
    "model.config.label2id = label2id\n",
    "\n"
   ]
  },
  {
   "cell_type": "code",
   "execution_count": null,
   "id": "37263d92-2048-4e04-92e5-7b2600a69484",
   "metadata": {},
   "outputs": [],
   "source": [
    "# Initialize the camera\n",
    "cap = cv2.VideoCapture(0)\n",
    "\n",
    "while True:\n",
    "    ret, frame = cap.read()\n",
    "    img = Image.fromarray(cv2.cvtColor(frame, cv2.COLOR_BGR2RGB))\n",
    "    inputs = processor(img, return_tensors=\"pt\")\n",
    "    outputs = model(**inputs)\n",
    "    logits = outputs.logits\n",
    "    prediction = logits.argmax(-1).item()\n",
    "    emotion = id2label[prediction]\n",
    "    cv2.putText(frame, emotion, (10, 30), cv2.FONT_HERSHEY_SIMPLEX, 1, (0, 0, 255), 2)\n",
    "    cv2.imshow('Emotion Detection', frame)\n",
    "    if cv2.waitKey(1) & 0xFF == ord('q'):\n",
    "        break\n",
    "\n",
    "cap.release()\n",
    "cv2.destroyAllWindows()\n"
   ]
  },
  {
   "cell_type": "code",
   "execution_count": 42,
   "id": "b00d4020-2cd2-4124-a259-c7cd22a12cf3",
   "metadata": {},
   "outputs": [],
   "source": [
    "# Define the new directory and file name for the saved model\n",
    "new_model_path = \"C:/Users/osyed/OneDrive/Desktop/VIT2Model\"\n",
    "\n",
    "# Save the model with the new name\n",
    "trainer.save_model(new_model_path)\n"
   ]
  },
  {
   "cell_type": "code",
   "execution_count": null,
   "id": "02fd606f-9c63-48ab-8f9c-1293173677e4",
   "metadata": {},
   "outputs": [],
   "source": []
  }
 ],
 "metadata": {
  "kernelspec": {
   "display_name": "Python 3 (ipykernel)",
   "language": "python",
   "name": "python3"
  },
  "language_info": {
   "codemirror_mode": {
    "name": "ipython",
    "version": 3
   },
   "file_extension": ".py",
   "mimetype": "text/x-python",
   "name": "python",
   "nbconvert_exporter": "python",
   "pygments_lexer": "ipython3",
   "version": "3.11.7"
  }
 },
 "nbformat": 4,
 "nbformat_minor": 5
}
